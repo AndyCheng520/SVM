{
 "cells": [
  {
   "cell_type": "code",
   "execution_count": null,
   "metadata": {},
   "outputs": [],
   "source": [
    "import codecademylib3_seaborn\n",
    "import matplotlib.pyplot as plt\n",
    "from sklearn.svm import SVC\n",
    "from sklearn.model_selection import train_test_split\n",
    "from svm_visualization import draw_boundary\n",
    "from players import aaron_judge, jose_altuve, david_ortiz\n",
    "\n",
    "fig, ax = plt.subplots()\n",
    "\n",
    "def find_strike_zone(daraset):\n",
    "  aaron_judge['type'] = aaron_judge['type'].map({'S':1, 'B':0})      #map S to 1, B to 0\n",
    "  #print(aaron_judge.type)\n",
    "\n",
    "  aaron_judge = aaron_judge.dropna(subset = ['type', 'plate_x', 'plate_z'])\n",
    "\n",
    "  plt.scatter(x=aaron_judge.plate_x, y=aaron_judge.plate_z, c=aaron_judge.type, cmap = plt.cm.coolwarm, alpha = 0.25)\n",
    "  training_set, validation_set = train_test_split(aaron_judge, random_state = 1)\n",
    "\n",
    "\n",
    "# for loop to find the greatest score and corresponding gamma and C\n",
    "  largest = {'value':0, 'gamma':1, 'C':1}\n",
    "  for gamma in range(1,20):\n",
    "    for C in range(1,20):\n",
    "      classifier = SVC(kernel='rbf', gamma = gamma, C=C)\n",
    "      classifier.fit(training_set[['plate_x', 'plate_z']], training_set.type)\n",
    "      score = classifier.score(validation_set[['plate_x', 'plate_z']], validation_set.type)\n",
    "      if score > largest['value']:\n",
    "        largest['value'] = score\n",
    "        largest['gamma'] = gamma\n",
    "        largest['C'] = C\n",
    "        \n",
    "  print(largest)\n",
    "\n",
    "  draw_boundary(ax, classifier)\n",
    "  ax.set_ylim(-2, 6)   #center the image\n",
    "  ax.set_xlim(-3, 3)\n",
    "  plt.show()\n",
    "\n",
    "find_strike_zone(aaron_judge)\n",
    "find_strike_zone(jose_altuve)\n",
    "find_strike_zone(david_ortiz)"
   ]
  }
 ],
 "metadata": {
  "kernelspec": {
   "display_name": "Python 3",
   "language": "python",
   "name": "python3"
  },
  "language_info": {
   "codemirror_mode": {
    "name": "ipython",
    "version": 3
   },
   "file_extension": ".py",
   "mimetype": "text/x-python",
   "name": "python",
   "nbconvert_exporter": "python",
   "pygments_lexer": "ipython3",
   "version": "3.7.6"
  }
 },
 "nbformat": 4,
 "nbformat_minor": 4
}
